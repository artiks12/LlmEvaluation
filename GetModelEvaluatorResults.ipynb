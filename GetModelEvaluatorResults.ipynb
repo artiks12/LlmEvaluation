{
 "cells": [
  {
   "cell_type": "code",
   "execution_count": 1,
   "metadata": {},
   "outputs": [],
   "source": [
    "# Gemini limits\n",
    "# Gemini 2.0 Flash - 15 per minute, 1,500 per day, 1,000,000 tokens per minute\n",
    "# Gemini 1.5 Flash - 15 per minute, 1,500 per day, 1,000,000 tokens per minute"
   ]
  },
  {
   "cell_type": "code",
   "execution_count": 2,
   "metadata": {},
   "outputs": [],
   "source": [
    "%%capture\n",
    "%pip install -U google-generativeai\n",
    "%pip install -U google-genai\n",
    "%pip install -U openai"
   ]
  },
  {
   "cell_type": "code",
   "execution_count": 3,
   "metadata": {},
   "outputs": [],
   "source": [
    "import os\n",
    "from os import listdir\n",
    "from os.path import isfile, join\n",
    "import json"
   ]
  },
  {
   "cell_type": "code",
   "execution_count": 6,
   "metadata": {},
   "outputs": [],
   "source": [
    "from google import genai\n",
    "import json\n",
    "\n",
    "with open('keys.json', encoding='utf-8') as f:\n",
    "    api_keys = json.load(f)\n",
    "\n",
    "google_api_key = api_keys['Gemini']\n",
    "# openrouter_api_key = api_keys['OpenRouter']"
   ]
  },
  {
   "cell_type": "code",
   "execution_count": 7,
   "metadata": {},
   "outputs": [],
   "source": [
    "google_client = genai.Client(api_key=google_api_key)"
   ]
  },
  {
   "cell_type": "code",
   "execution_count": 8,
   "metadata": {},
   "outputs": [],
   "source": [
    "# from openai import OpenAI\n",
    "\n",
    "# client = OpenAI(\n",
    "#   base_url=\"https://openrouter.ai/api/v1\",\n",
    "#   api_key=openrouter_api_key,\n",
    "# )"
   ]
  },
  {
   "cell_type": "code",
   "execution_count": 9,
   "metadata": {},
   "outputs": [],
   "source": [
    "import time\n",
    "from google.genai.types import Tool, ToolCodeExecution, GenerateContentConfig\n",
    "\n",
    "code_execution_tool = Tool(\n",
    "    code_execution=ToolCodeExecution()\n",
    ")\n",
    "\n",
    "def GetGeminiResponses(instructions, iterations=1, model=\"gemini-2.0-flash\", history = {}):\n",
    "    results = {}\n",
    "    try:\n",
    "        for id, instruction in instructions.items():\n",
    "            print(id)\n",
    "            results[id] = []\n",
    "            if id in history.keys(): \n",
    "                print('Exists:',len(history[id]))\n",
    "                count = len(history[id])\n",
    "            else:\n",
    "                count = 0\n",
    "            for _ in range(count,iterations):\n",
    "                response = google_client.models.generate_content(\n",
    "                    model=model,\n",
    "                    contents=instruction,\n",
    "                    config=GenerateContentConfig(\n",
    "                        tools=[code_execution_tool],\n",
    "                        temperature=0, # determmines randomness. The lower the value, the less random is the text.\n",
    "                    )\n",
    "                )\n",
    "                results[id].append(response.text)\n",
    "                time.sleep(6)\n",
    "        return results, None\n",
    "    except Exception as error:\n",
    "        print('Error:',error)\n",
    "        return results, error"
   ]
  },
  {
   "cell_type": "code",
   "execution_count": 10,
   "metadata": {},
   "outputs": [],
   "source": [
    "def GetScores(file, model, instructions):\n",
    "    iterations = 1\n",
    "\n",
    "    print(file)\n",
    "\n",
    "    while True:\n",
    "        try:\n",
    "            with open(f'Scores/LlmEvaluatorAnswers/{model}_{file}', encoding='utf-8') as f:\n",
    "                scores = json.load(f)\n",
    "        except:\n",
    "            scores = {}\n",
    "\n",
    "        if len(scores) == len(instructions) and all([len(score) >= iterations for _, score in scores.items() ]): break\n",
    "\n",
    "        instructions_check = { inst:instructions[inst] for inst in instructions.keys() if inst not in scores.keys() or len(scores[inst]) < iterations}\n",
    "        history = { inst:scores[inst] for inst in scores.keys() if len(scores[inst]) < iterations}\n",
    "\n",
    "        print(instructions_check.keys())\n",
    "\n",
    "        result, error = GetGeminiResponses(instructions_check, iterations=iterations, model=model, history=history)\n",
    "\n",
    "        final = {k: scores.get(k, []) + result.get(k, []) for k in set(scores) | set(result)}\n",
    "\n",
    "        with open(f'Scores/LlmEvaluatorAnswers/{model}_{file}', 'wt', encoding='utf-8') as f:\n",
    "            json.dump(final, f, ensure_ascii=False, indent=4)\n",
    "\n",
    "        if error != None:\n",
    "            if error.status == 'RESOURCE_EXHAUSTED': return error.status\n",
    "\n",
    "    return None\n"
   ]
  },
  {
   "cell_type": "code",
   "execution_count": 14,
   "metadata": {},
   "outputs": [],
   "source": [
    "path = 'instructions/SupervisedLlmEvaluation/'\n",
    "model = 'gemini-2.0-flash'\n",
    "\n",
    "onlyfiles = [f for f in listdir(path) if isfile(join(path, f))]\n",
    "\n",
    "for file in onlyfiles:\n",
    "    with open(path+file, encoding='utf-8') as f:\n",
    "        instructions = json.load(f)\n",
    "    status = GetScores(file, model, instructions)\n",
    "    if status != None: break"
   ]
  },
  {
   "cell_type": "code",
   "execution_count": 15,
   "metadata": {},
   "outputs": [],
   "source": [
    "# def GetResponses(instructions, iterations=1, model=\"deepseek/deepseek-r1:free\", history = {}):\n",
    "#     results = {}\n",
    "#     try:\n",
    "#         for id, instruction in instructions.items():\n",
    "#             print(id)\n",
    "#             results[id] = []\n",
    "#             if id in history.keys(): \n",
    "#                 print('Exists:',len(history[id]))\n",
    "#                 count = len(history[id])\n",
    "#             else:\n",
    "#                 count = 0\n",
    "#             for _ in range(count,iterations):\n",
    "#                 response = client.chat.completions.create(\n",
    "#                     extra_body={},\n",
    "#                     model=model,\n",
    "#                     messages=[\n",
    "#                         {\n",
    "#                             \"role\": \"user\",\n",
    "#                             \"content\": instruction\n",
    "#                         }\n",
    "#                     ]\n",
    "#                 )\n",
    "#                 results[id].append(response.choices[0].message.content)\n",
    "#                 time.sleep(3)\n",
    "#         return results\n",
    "#     except Exception as error:\n",
    "#         print('Error:', response.error['message'])\n",
    "#         return results\n"
   ]
  }
 ],
 "metadata": {
  "kernelspec": {
   "display_name": "Python 3",
   "language": "python",
   "name": "python3"
  },
  "language_info": {
   "codemirror_mode": {
    "name": "ipython",
    "version": 3
   },
   "file_extension": ".py",
   "mimetype": "text/x-python",
   "name": "python",
   "nbconvert_exporter": "python",
   "pygments_lexer": "ipython3",
   "version": "3.10.11"
  }
 },
 "nbformat": 4,
 "nbformat_minor": 2
}
